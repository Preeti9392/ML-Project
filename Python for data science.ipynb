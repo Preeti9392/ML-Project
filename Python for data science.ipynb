{
 "cells": [
  {
   "cell_type": "code",
   "execution_count": 2,
   "id": "a292cd01-bf13-4e34-827a-4102d7d2ca62",
   "metadata": {},
   "outputs": [
    {
     "name": "stdout",
     "output_type": "stream",
     "text": [
      "India 5 Pakistan\n"
     ]
    }
   ],
   "source": [
    "print('India','5','Pakistan')"
   ]
  },
  {
   "cell_type": "code",
   "execution_count": 3,
   "id": "ddbe05f1-4e06-490f-8783-e6ecd41084bf",
   "metadata": {},
   "outputs": [
    {
     "name": "stdout",
     "output_type": "stream",
     "text": [
      "India/5/Pakistan\n"
     ]
    }
   ],
   "source": [
    "print('India','5','Pakistan', sep='/')"
   ]
  },
  {
   "cell_type": "code",
   "execution_count": null,
   "id": "003292d6-93af-4cf0-ba08-c3a8e86febf7",
   "metadata": {},
   "outputs": [],
   "source": [
    "print('India')\n",
    "print('Pakistan')"
   ]
  },
  {
   "cell_type": "code",
   "execution_count": 4,
   "id": "f4f18d7c-2926-43a6-9450-8b33445066c0",
   "metadata": {},
   "outputs": [
    {
     "name": "stdout",
     "output_type": "stream",
     "text": [
      "India-Pakistan\n"
     ]
    }
   ],
   "source": [
    "print('India', end='-')\n",
    "print('Pakistan')"
   ]
  },
  {
   "cell_type": "markdown",
   "id": "a73d36eb-1bf9-4280-935e-f59aa12747fd",
   "metadata": {},
   "source": [
    "Python supports 3 categories of data types:\n",
    "1.basic types-(integer, float, string, boolean, complex)\n",
    "2.container types-(list, tuples, sets, dictionary)\n",
    "3.user defined types-(class)"
   ]
  },
  {
   "cell_type": "code",
   "execution_count": 8,
   "id": "2fb9d615-7966-47fc-8965-9a38106b21d7",
   "metadata": {},
   "outputs": [
    {
     "name": "stdout",
     "output_type": "stream",
     "text": [
      "5 6 7000000000000000000000000000000000000000000000000\n",
      "1e+308\n",
      "inf\n"
     ]
    }
   ],
   "source": [
    "# integer\n",
    "print(5,6,7000000000000000000000000000000000000000000000000)\n",
    "print(1e308)\n",
    "print(1e309)"
   ]
  },
  {
   "cell_type": "code",
   "execution_count": 9,
   "id": "a95b0087-1bb4-4d57-8f6e-4aaef9687d7a",
   "metadata": {},
   "outputs": [
    {
     "name": "stdout",
     "output_type": "stream",
     "text": [
      "4.5\n",
      "1.1e+308\n",
      "inf\n"
     ]
    }
   ],
   "source": [
    "#float\n",
    "print(4.5)\n",
    "print(1.1e308)\n",
    "print(1.1e309)\n",
    "\n"
   ]
  },
  {
   "cell_type": "code",
   "execution_count": 12,
   "id": "dfc552ea-c47e-41c3-b97c-8a298d3a9342",
   "metadata": {},
   "outputs": [
    {
     "name": "stdout",
     "output_type": "stream",
     "text": [
      "True\n",
      "False\n"
     ]
    }
   ],
   "source": [
    "#boolean (True/False)\n",
    "print(True)\n",
    "print(False)"
   ]
  },
  {
   "cell_type": "code",
   "execution_count": 13,
   "id": "fafc94d6-08a9-4843-9a11-ace1ce88303c",
   "metadata": {},
   "outputs": [
    {
     "name": "stdout",
     "output_type": "stream",
     "text": [
      "(4+5j)\n"
     ]
    }
   ],
   "source": [
    "# complex (real+imag)\n",
    "print(4+5j)"
   ]
  },
  {
   "cell_type": "code",
   "execution_count": 16,
   "id": "189a51fb-86f2-48ab-a8a5-2758eb494e4b",
   "metadata": {},
   "outputs": [
    {
     "name": "stdout",
     "output_type": "stream",
     "text": [
      "preeti Preeti Preeti Preeti\n"
     ]
    }
   ],
   "source": [
    "# string\n",
    "print('preeti', \"Preeti\", '''Preeti''', \"\"\"Preeti\"\"\")"
   ]
  },
  {
   "cell_type": "code",
   "execution_count": 17,
   "id": "faf61540-b134-4dac-90e1-148d67141b11",
   "metadata": {},
   "outputs": [
    {
     "name": "stdout",
     "output_type": "stream",
     "text": [
      "[1, 2, 3, 4]\n"
     ]
    }
   ],
   "source": [
    "#List  (array)  ordered items\n",
    "print([1,2,3,4])"
   ]
  },
  {
   "cell_type": "code",
   "execution_count": 18,
   "id": "cec6bd6e-a79d-4ac4-8732-13c783e5a8d7",
   "metadata": {},
   "outputs": [
    {
     "name": "stdout",
     "output_type": "stream",
     "text": [
      "(1, 2, 3, 4)\n"
     ]
    }
   ],
   "source": [
    "# tuple     ordered items, immutable\n",
    "print((1,2,3,4))"
   ]
  },
  {
   "cell_type": "code",
   "execution_count": 19,
   "id": "0b053da2-e64a-4d5b-84bd-76a0718726d1",
   "metadata": {},
   "outputs": [
    {
     "name": "stdout",
     "output_type": "stream",
     "text": [
      "{1, 2, 3, 4}\n"
     ]
    }
   ],
   "source": [
    "# sets      unordered, unique\n",
    "print({1,2,3,4})"
   ]
  },
  {
   "cell_type": "code",
   "execution_count": 21,
   "id": "ea9ce81d-39e4-4890-9b34-8b988d3dd7ed",
   "metadata": {},
   "outputs": [
    {
     "name": "stdout",
     "output_type": "stream",
     "text": [
      "{'name': 'preeti', 'age': 82, 'gender': 'F'}\n"
     ]
    }
   ],
   "source": [
    "# dictionary      key value pair\n",
    "print({'name':'preeti', 'age':82, 'gender':'F'})"
   ]
  },
  {
   "cell_type": "markdown",
   "id": "795707d4-f46f-49c1-947d-7026ce6e469c",
   "metadata": {},
   "source": [
    "# comments:\n",
    "it is a piece of code that is not executable by compiler or interpretor\n",
    "to enhance code readability\n",
    "use # in start"
   ]
  },
  {
   "cell_type": "markdown",
   "id": "281a729b-33ed-4caf-8ab7-6ee386ae6f05",
   "metadata": {},
   "source": [
    "# variables\n",
    "these are containers for future use"
   ]
  },
  {
   "cell_type": "code",
   "execution_count": 23,
   "id": "1bb92b3f-d14a-4f50-b267-39cbf2bda99c",
   "metadata": {},
   "outputs": [],
   "source": [
    "name='preeti'  # dynamic typing:python will automatically understand its datatype\n",
    "# name=preeti"
   ]
  },
  {
   "cell_type": "code",
   "execution_count": 24,
   "id": "d9f223b0-506c-4aba-8276-1fe42a4d446c",
   "metadata": {},
   "outputs": [
    {
     "name": "stdout",
     "output_type": "stream",
     "text": [
      "preeti\n"
     ]
    }
   ],
   "source": [
    "print(name)"
   ]
  },
  {
   "cell_type": "code",
   "execution_count": 25,
   "id": "925cf324-b6ab-4e61-aaea-8adfaba8433b",
   "metadata": {},
   "outputs": [
    {
     "name": "stdout",
     "output_type": "stream",
     "text": [
      "True\n"
     ]
    }
   ],
   "source": [
    "name=True    # dynamic binding: variable is not binded to a datatype\n",
    "print(name)"
   ]
  },
  {
   "cell_type": "code",
   "execution_count": null,
   "id": "4e8f4742-9276-4416-a7c1-9588c7dba5bf",
   "metadata": {},
   "outputs": [],
   "source": [
    "# no variable declaration"
   ]
  },
  {
   "cell_type": "code",
   "execution_count": null,
   "id": "f7838427-abc4-4c5b-8197-19054999dd44",
   "metadata": {},
   "outputs": [],
   "source": [
    "Static vs Dynamic Typing:\n",
    "\n",
    "Dynamic Typing (Python): Types change during execution.\n",
    "Static Typing: Fixed types before runtime.\n",
    "Static vs Dynamic Binding:\n",
    "\n",
    "Static Binding: Types fixed at compile-time.(c,c+,java)\n",
    "Dynamic Binding: Types associated at runtime, changeable during execution.\n",
    "Stylish Declaration Techniques:\n",
    "\n",
    "Clear, efficient variable/structure declarations in Python.\n",
    "Use Python's flexibility for concise, readable code."
   ]
  },
  {
   "cell_type": "code",
   "execution_count": 28,
   "id": "4cf500df-661d-4b96-84cf-76d8e6050378",
   "metadata": {},
   "outputs": [
    {
     "name": "stdout",
     "output_type": "stream",
     "text": [
      "5 3 4\n"
     ]
    }
   ],
   "source": [
    "# to declate multiple variables in a single line\n",
    "a=5;b=3;c=4     \n",
    "print(a,b,c)"
   ]
  },
  {
   "cell_type": "code",
   "execution_count": 30,
   "id": "0cd98327-54dc-40ce-b1a2-ee03942de823",
   "metadata": {},
   "outputs": [
    {
     "name": "stdout",
     "output_type": "stream",
     "text": [
      "5 3 4\n"
     ]
    }
   ],
   "source": [
    "a,b,c=5,3,4\n",
    "print(a,b,c)"
   ]
  },
  {
   "cell_type": "code",
   "execution_count": 32,
   "id": "102ca56b-3227-40ae-8a0b-bdb4110c6f04",
   "metadata": {},
   "outputs": [
    {
     "name": "stdout",
     "output_type": "stream",
     "text": [
      "6 6 6\n"
     ]
    }
   ],
   "source": [
    "a=b=c=6\n",
    "print(a,b,c)"
   ]
  },
  {
   "cell_type": "markdown",
   "id": "4ea1dd2d-2b95-48b8-94c9-f776095b072a",
   "metadata": {},
   "source": [
    "Keywords\n",
    "Python is case sensitive\n",
    "In programming a Keyword is a word that is reserved by a program because the word has a special meaning\n",
    "keywords can be commands or parameters.\n",
    "every programming language has a set of keywords that cannot be used as variable name"
   ]
  },
  {
   "cell_type": "code",
   "execution_count": 33,
   "id": "0f508c08-6130-42db-9e6d-cb531f3f2bcf",
   "metadata": {},
   "outputs": [
    {
     "name": "stdout",
     "output_type": "stream",
     "text": [
      "['False', 'None', 'True', 'and', 'as', 'assert', 'async', 'await', 'break', 'class', 'continue', 'def', 'del', 'elif', 'else', 'except', 'finally', 'for', 'from', 'global', 'if', 'import', 'in', 'is', 'lambda', 'nonlocal', 'not', 'or', 'pass', 'raise', 'return', 'try', 'while', 'with', 'yield']\n"
     ]
    }
   ],
   "source": [
    "# python has 33 keywords\n",
    "import keyword\n",
    "print(keyword.kwlist)  # keyword list"
   ]
  },
  {
   "cell_type": "markdown",
   "id": "551641be-0ac4-4b04-872b-7a8931b89ff9",
   "metadata": {},
   "source": [
    "Identifiers\n",
    "a python identifier is a name used to identify a variable, function, class, module or other object.\n",
    "\n",
    "Rules:\n",
    "\n",
    "Start with letter or _\n",
    "Followed by letters, digits, _\n",
    "Not a Python keyword"
   ]
  },
  {
   "cell_type": "markdown",
   "id": "becae825-8bb6-49be-a8e8-e478cc941561",
   "metadata": {},
   "source": [
    " Taking user input\n",
    " static software  (watch)\n",
    " dynamic software"
   ]
  },
  {
   "cell_type": "code",
   "execution_count": 35,
   "id": "6e138c23-34a5-4cc8-b145-299aaa53a8f7",
   "metadata": {},
   "outputs": [
    {
     "name": "stdin",
     "output_type": "stream",
     "text": [
      " hgf\n"
     ]
    },
    {
     "data": {
      "text/plain": [
       "'hgf'"
      ]
     },
     "execution_count": 35,
     "metadata": {},
     "output_type": "execute_result"
    }
   ],
   "source": [
    "input()"
   ]
  },
  {
   "cell_type": "code",
   "execution_count": 37,
   "id": "a29ed399-d855-4236-a1bf-3fcb974df447",
   "metadata": {},
   "outputs": [
    {
     "name": "stdin",
     "output_type": "stream",
     "text": [
      "what is your name preeti\n"
     ]
    },
    {
     "data": {
      "text/plain": [
       "'preeti'"
      ]
     },
     "execution_count": 37,
     "metadata": {},
     "output_type": "execute_result"
    }
   ],
   "source": [
    "input(prompt='what is your name')"
   ]
  },
  {
   "cell_type": "code",
   "execution_count": 52,
   "id": "8bc9b79b-c81b-4fa8-8cb4-f62df27b3a9a",
   "metadata": {},
   "outputs": [
    {
     "name": "stdin",
     "output_type": "stream",
     "text": [
      "enter first number 2\n",
      "enter second number 6\n"
     ]
    },
    {
     "name": "stdout",
     "output_type": "stream",
     "text": [
      "26\n"
     ]
    }
   ],
   "source": [
    "first_num=input('enter first number')\n",
    "second_num=input('enter second number')\n",
    "result=first_num + second_num\n",
    "print(result)            #### input method saves the  input bydefault as string"
   ]
  },
  {
   "cell_type": "code",
   "execution_count": 53,
   "id": "b83cb722-a1c9-495c-b4a1-362c6a2a32ce",
   "metadata": {},
   "outputs": [
    {
     "data": {
      "text/plain": [
       "8"
      ]
     },
     "execution_count": 53,
     "metadata": {},
     "output_type": "execute_result"
    }
   ],
   "source": [
    "int(first_num)+int(second_num)"
   ]
  },
  {
   "cell_type": "code",
   "execution_count": 57,
   "id": "325aef43-3664-46ef-a63d-9e8aaadeb851",
   "metadata": {},
   "outputs": [
    {
     "data": {
      "text/plain": [
       "str"
      ]
     },
     "execution_count": 57,
     "metadata": {},
     "output_type": "execute_result"
    }
   ],
   "source": [
    "type(first_num)   # it doesnt typeconvert permanently"
   ]
  },
  {
   "cell_type": "code",
   "execution_count": 44,
   "id": "86839d71-d7a0-44ae-8074-e6447d8fae3a",
   "metadata": {},
   "outputs": [
    {
     "name": "stdin",
     "output_type": "stream",
     "text": [
      "enter first number 2\n",
      "enter second number 6\n"
     ]
    },
    {
     "name": "stdout",
     "output_type": "stream",
     "text": [
      "8\n"
     ]
    }
   ],
   "source": [
    "first_num=int(input('enter first number'))\n",
    "second_num=int(input('enter second number'))\n",
    "result=first_num + second_num\n",
    "print(result)     "
   ]
  },
  {
   "cell_type": "code",
   "execution_count": 48,
   "id": "0e419b1d-9219-4782-8580-d3fbf9b331ec",
   "metadata": {},
   "outputs": [
    {
     "data": {
      "text/plain": [
       "(int, float, bool, str, complex)"
      ]
     },
     "execution_count": 48,
     "metadata": {},
     "output_type": "execute_result"
    }
   ],
   "source": [
    "type(4),type(2.2),type(True),type('abc'), type(5+4j)"
   ]
  },
  {
   "cell_type": "markdown",
   "id": "af0c6883-abaa-4214-984d-8da324a30765",
   "metadata": {},
   "source": [
    "Type conversion\n",
    "implicit\n",
    "explicit"
   ]
  },
  {
   "cell_type": "code",
   "execution_count": 49,
   "id": "b7808fab-0087-46ad-91fc-c421392b310d",
   "metadata": {},
   "outputs": [
    {
     "data": {
      "text/plain": [
       "8.5"
      ]
     },
     "execution_count": 49,
     "metadata": {},
     "output_type": "execute_result"
    }
   ],
   "source": [
    "# implicit\n",
    "4+4.5"
   ]
  },
  {
   "cell_type": "code",
   "execution_count": 51,
   "id": "4e34fba9-859e-4d10-b9bf-c3a0b17ed76e",
   "metadata": {},
   "outputs": [
    {
     "data": {
      "text/plain": [
       "(11.5+7j)"
      ]
     },
     "execution_count": 51,
     "metadata": {},
     "output_type": "execute_result"
    }
   ],
   "source": [
    "5+6.5+7j   # implicit"
   ]
  },
  {
   "cell_type": "code",
   "execution_count": null,
   "id": "8db6ce5c-10a7-48cc-8ba8-6a36fe09b4db",
   "metadata": {},
   "outputs": [],
   "source": [
    "# explicit"
   ]
  },
  {
   "cell_type": "code",
   "execution_count": 54,
   "id": "fac25404-78b2-40ec-a168-7328a6b79c95",
   "metadata": {},
   "outputs": [
    {
     "data": {
      "text/plain": [
       "True"
      ]
     },
     "execution_count": 54,
     "metadata": {},
     "output_type": "execute_result"
    }
   ],
   "source": [
    "bool(1)"
   ]
  },
  {
   "cell_type": "code",
   "execution_count": 55,
   "id": "8459f325-3199-4855-adf9-7e451781471f",
   "metadata": {},
   "outputs": [
    {
     "data": {
      "text/plain": [
       "(4+0j)"
      ]
     },
     "execution_count": 55,
     "metadata": {},
     "output_type": "execute_result"
    }
   ],
   "source": [
    "complex(4)"
   ]
  },
  {
   "cell_type": "code",
   "execution_count": 56,
   "id": "261209f3-a1af-4d9b-9fd0-d7bf7511f5dc",
   "metadata": {},
   "outputs": [
    {
     "data": {
      "text/plain": [
       "'55'"
      ]
     },
     "execution_count": 56,
     "metadata": {},
     "output_type": "execute_result"
    }
   ],
   "source": [
    "str(55)"
   ]
  },
  {
   "cell_type": "markdown",
   "id": "b36da375-9996-400d-a5c5-de5d58934358",
   "metadata": {},
   "source": [
    "Literals\n",
    "literal is a raw data given in a variable.\n",
    "In python there are various types of literls.\n",
    "numeric literal\n",
    "string literal\n",
    "boolean literal\n",
    "special literal"
   ]
  },
  {
   "cell_type": "code",
   "execution_count": 58,
   "id": "735fcd82-cce7-4e6f-b323-deaaa8f5e528",
   "metadata": {},
   "outputs": [
    {
     "name": "stdout",
     "output_type": "stream",
     "text": [
      "10 100 200 300\n",
      "10.5 150.0 0.0015\n",
      "3.14j 3.14 0.0\n"
     ]
    }
   ],
   "source": [
    "# 1.numeric literals\n",
    "# Integer Literals\n",
    "a = 0b1010  # Binary literal\n",
    "b = 100     # Decimal literal\n",
    "c = 0o310   # Octal literal\n",
    "d = 0x12c   # Hexadecimal literal\n",
    "\n",
    "# Float Literals\n",
    "f1 = 10.5\n",
    "f2 = 1.5e2\n",
    "f3 = 1.5e-3\n",
    "\n",
    "# Complex Literal\n",
    "x = 3.14j\n",
    "\n",
    "print(a, b, c, d)\n",
    "print(f1, f2, f3)\n",
    "print(x, x.imag, x.real)"
   ]
  },
  {
   "cell_type": "code",
   "execution_count": 59,
   "id": "a57cf39a-efbb-48c8-8a5c-915e9ce2bf00",
   "metadata": {},
   "outputs": [
    {
     "name": "stdout",
     "output_type": "stream",
     "text": [
      "This is Python\n",
      "This is Python\n",
      "C\n",
      "This is a multiline string with more than one line code.\n",
      "😀😆🤣\n",
      "raw \\n string\n"
     ]
    }
   ],
   "source": [
    "# string literal\n",
    "string = 'This is Python'\n",
    "strings = \"This is Python\"\n",
    "char = \"C\"\n",
    "multiline_str = \"\"\"This is a multiline string with more than one line code.\"\"\"\n",
    "unicode = u\"\\U0001f600\\U0001F606\\U0001F923\"\n",
    "raw_str = r\"raw \\n string\"\n",
    "\n",
    "print(string)\n",
    "print(strings)\n",
    "print(char)\n",
    "print(multiline_str)\n",
    "print(unicode)\n",
    "print(raw_str)"
   ]
  },
  {
   "cell_type": "markdown",
   "id": "b78589d5-2174-40f5-b9c3-d9b0089e19ad",
   "metadata": {},
   "source": []
  },
  {
   "cell_type": "code",
   "execution_count": 60,
   "id": "f32463cb-4527-4170-9fd9-16d8e71b4e36",
   "metadata": {},
   "outputs": [
    {
     "name": "stdout",
     "output_type": "stream",
     "text": [
      "a: 5\n",
      "b: 10\n"
     ]
    }
   ],
   "source": [
    "# Boolean literal\n",
    "a = True + 4   # True == 1\n",
    "b = False + 10 # False == 0\n",
    "\n",
    "print(\"a:\", a)\n",
    "print(\"b:\", b)"
   ]
  },
  {
   "cell_type": "code",
   "execution_count": null,
   "id": "8d8f4b40-0ca9-489b-9319-2235f9a3e93e",
   "metadata": {},
   "outputs": [],
   "source": [
    "# special literal\n",
    "a = None    # absence of anything\n",
    "print(a)"
   ]
  },
  {
   "cell_type": "code",
   "execution_count": 62,
   "id": "a922eae0-cdc2-49f3-91fb-bbf12ec5996c",
   "metadata": {},
   "outputs": [],
   "source": [
    "c=2+3"
   ]
  },
  {
   "cell_type": "code",
   "execution_count": 66,
   "id": "5b415eaf-3b73-4dab-b156-8b7b21a2de4a",
   "metadata": {},
   "outputs": [],
   "source": [
    "k"
   ]
  },
  {
   "cell_type": "code",
   "execution_count": 63,
   "id": "c6bc46df-850c-41fd-823d-4d0a0d3fbf37",
   "metadata": {},
   "outputs": [],
   "source": [
    "# Variable Declaration\n",
    "k = None"
   ]
  },
  {
   "cell_type": "code",
   "execution_count": null,
   "id": "39973f66-50bc-4e92-b53e-050fc39532b1",
   "metadata": {},
   "outputs": [],
   "source": [
    "#DAY==7 operators in python\n",
    "Operators in Python\n",
    "Arithmetic: +, -, *, /, %, **, //\n",
    "Comparison: ==, !=, >, <, >=, <=\n",
    "Logical: and, or, not\n",
    "Bitwise: &, |, ^, ~, <<, >>\n",
    "Assignment: =, +=, -=, *=, /=, %=, **=, //=\n",
    "Identity: is, is not\n",
    "Membership: in, not in"
   ]
  },
  {
   "cell_type": "code",
   "execution_count": 91,
   "id": "b122394f-0f46-42e7-aa90-3251a0c2633e",
   "metadata": {},
   "outputs": [
    {
     "data": {
      "text/plain": [
       "False"
      ]
     },
     "execution_count": 91,
     "metadata": {},
     "output_type": "execute_result"
    }
   ],
   "source": [
    "x=2\n",
    "y=3\n",
    "x>y"
   ]
  },
  {
   "cell_type": "code",
   "execution_count": 92,
   "id": "3f748916-b68b-44e4-ba65-f05ee3d1fc58",
   "metadata": {},
   "outputs": [
    {
     "data": {
      "text/plain": [
       "False"
      ]
     },
     "execution_count": 92,
     "metadata": {},
     "output_type": "execute_result"
    }
   ],
   "source": [
    "x==y"
   ]
  },
  {
   "cell_type": "code",
   "execution_count": 93,
   "id": "b58c85e7-cc1f-47dc-8533-391809ec4797",
   "metadata": {},
   "outputs": [
    {
     "data": {
      "text/plain": [
       "False"
      ]
     },
     "execution_count": 93,
     "metadata": {},
     "output_type": "execute_result"
    }
   ],
   "source": [
    "#logical\n",
    "a=True\n",
    "b= False\n",
    "a and b"
   ]
  },
  {
   "cell_type": "code",
   "execution_count": 94,
   "id": "d01751fb-9817-46a4-ae2f-c9128e317497",
   "metadata": {},
   "outputs": [
    {
     "data": {
      "text/plain": [
       "True"
      ]
     },
     "execution_count": 94,
     "metadata": {},
     "output_type": "execute_result"
    }
   ],
   "source": [
    "a or b"
   ]
  },
  {
   "cell_type": "code",
   "execution_count": 95,
   "id": "9a18ee79-e985-49b0-a16e-debe855c4b2b",
   "metadata": {},
   "outputs": [
    {
     "data": {
      "text/plain": [
       "True"
      ]
     },
     "execution_count": 95,
     "metadata": {},
     "output_type": "execute_result"
    }
   ],
   "source": [
    "not b"
   ]
  },
  {
   "cell_type": "code",
   "execution_count": 96,
   "id": "9fb54e69-d905-4254-8a8c-584b24bc5e21",
   "metadata": {},
   "outputs": [
    {
     "data": {
      "text/plain": [
       "2"
      ]
     },
     "execution_count": 96,
     "metadata": {},
     "output_type": "execute_result"
    }
   ],
   "source": [
    "# Bitwise: &, |, ^, ~, <<, >>\n",
    "# works on binary values\n",
    "# useful in image processing\n",
    "x&y"
   ]
  },
  {
   "cell_type": "code",
   "execution_count": 97,
   "id": "d4626ad1-405c-4ef2-8e03-ea4e09f96d31",
   "metadata": {},
   "outputs": [
    {
     "data": {
      "text/plain": [
       "3"
      ]
     },
     "execution_count": 97,
     "metadata": {},
     "output_type": "execute_result"
    }
   ],
   "source": [
    "x|y"
   ]
  },
  {
   "cell_type": "code",
   "execution_count": 98,
   "id": "d0bc6bb2-c7a2-46b3-8626-c45303d268fb",
   "metadata": {},
   "outputs": [
    {
     "data": {
      "text/plain": [
       "False"
      ]
     },
     "execution_count": 98,
     "metadata": {},
     "output_type": "execute_result"
    }
   ],
   "source": [
    "x is y    "
   ]
  },
  {
   "cell_type": "code",
   "execution_count": 101,
   "id": "7144e78d-70ce-453c-a773-02679bd67c5c",
   "metadata": {},
   "outputs": [
    {
     "data": {
      "text/plain": [
       "True"
      ]
     },
     "execution_count": 101,
     "metadata": {},
     "output_type": "execute_result"
    }
   ],
   "source": [
    "c=1\n",
    "d=1\n",
    "c is d     # both are at same memory location"
   ]
  },
  {
   "cell_type": "code",
   "execution_count": 103,
   "id": "44f359c6-2646-4bed-9760-2e529081c840",
   "metadata": {},
   "outputs": [
    {
     "data": {
      "text/plain": [
       "False"
      ]
     },
     "execution_count": 103,
     "metadata": {},
     "output_type": "execute_result"
    }
   ],
   "source": [
    "c='hello-world'\n",
    "d='hello-world'\n",
    "c is d      # we cant tell by looking at"
   ]
  },
  {
   "cell_type": "code",
   "execution_count": 104,
   "id": "08bd288e-100d-4ff6-aff5-0032cf1793e4",
   "metadata": {},
   "outputs": [
    {
     "name": "stdout",
     "output_type": "stream",
     "text": [
      "True\n"
     ]
    }
   ],
   "source": [
    "print(\"o\" in c)"
   ]
  },
  {
   "cell_type": "markdown",
   "id": "b269786a-3233-4b5f-8712-b53b31fc35d8",
   "metadata": {},
   "source": [
    "## day7 if-elif-else OR decision control statement"
   ]
  },
  {
   "cell_type": "code",
   "execution_count": 105,
   "id": "887d5653-b490-4c2b-af60-46d5791cbfc6",
   "metadata": {},
   "outputs": [
    {
     "name": "stdin",
     "output_type": "stream",
     "text": [
      "enter your email preeti@gmail.com\n",
      "enter password 1234\n"
     ]
    },
    {
     "name": "stdout",
     "output_type": "stream",
     "text": [
      "welcome\n"
     ]
    }
   ],
   "source": [
    "#correct email=preeti@gmail.com\n",
    "# password= 1234\n",
    "email=input(\"enter your email\")\n",
    "password=input(\"enter password\")\n",
    "\n",
    "if email== \"preeti@gmail.com\" and password ==\"1234\":\n",
    "    print(\"welcome\")\n",
    "else:\n",
    "    print(\"Incorrect email or password\")"
   ]
  },
  {
   "cell_type": "code",
   "execution_count": null,
   "id": "3480c2a4-cd1b-4ffd-956b-e5f5af50ccb0",
   "metadata": {},
   "outputs": [],
   "source": [
    "mails={\"preeti@gmail.com\":\"1234\",\"Neha@gmail.com\": \"5698\"}\n",
    "email=input(\"enter your email\")\n",
    "password=input(\"enter password\")\n",
    "\n",
    "if email in mails.keys() and password== mails[email]:\n",
    "    print(\"welcome\")\n",
    "else:\n",
    "    print(\"Incorrect email or password\")"
   ]
  },
  {
   "cell_type": "markdown",
   "id": "975d2b91-6ef3-475a-b994-f41f7caebc9d",
   "metadata": {},
   "source": [
    "Q:if user is giving correct email and wrong passwor we want to \n",
    "give him one more chance to give correct password"
   ]
  },
  {
   "cell_type": "code",
   "execution_count": 124,
   "id": "eb1a8032-9cce-4efd-ae63-bdb3e68bc626",
   "metadata": {},
   "outputs": [
    {
     "name": "stdin",
     "output_type": "stream",
     "text": [
      "enter your email preeti@gmail.com\n",
      "enter password 86\n"
     ]
    },
    {
     "name": "stdout",
     "output_type": "stream",
     "text": [
      "incorrect password\n"
     ]
    },
    {
     "name": "stdin",
     "output_type": "stream",
     "text": [
      "please enter correct password 1234\n"
     ]
    },
    {
     "name": "stdout",
     "output_type": "stream",
     "text": [
      "welcome\n"
     ]
    }
   ],
   "source": [
    "email=input(\"enter your email\")\n",
    "password=input(\"enter password\")\n",
    "\n",
    "if email== \"preeti@gmail.com\" and password ==\"1234\":\n",
    "    print(\"welcome\")\n",
    "elif email== \"preeti@gmail.com\" and password !=\"1234\":       #*****using elif\n",
    "    print(\"incorrect password\")\n",
    "    password=input(\"please enter correct password\") \n",
    "    if password ==\"1234\":\n",
    "        print(\"welcome\")\n",
    "    else:\n",
    "        print(\"incorrect password\")\n",
    "        \n",
    "else:\n",
    "    print(\"Incorrect email or password\")"
   ]
  },
  {
   "cell_type": "code",
   "execution_count": 121,
   "id": "babdc8ef-7bf4-4700-9a4c-b6cd0f62e630",
   "metadata": {},
   "outputs": [
    {
     "name": "stdin",
     "output_type": "stream",
     "text": [
      "enter your email preeti@gmail.com\n",
      "enter password 75\n",
      "please enter the correct password 1234\n"
     ]
    },
    {
     "name": "stdout",
     "output_type": "stream",
     "text": [
      "welcome\n"
     ]
    }
   ],
   "source": [
    "email=input(\"enter your email\")\n",
    "\n",
    "if email== \"preeti@gmail.com\":\n",
    "    password=input(\"enter password\")\n",
    "    \n",
    "    if password == \"1234\":\n",
    "        print(\"welcome\")\n",
    "        \n",
    "        \n",
    "        if password==\"1234\":\n",
    "            print(\"password incorrect\") \n",
    "        else:\n",
    "            print(\"welcome\") \n",
    "    else:\n",
    "        password=input(\"please enter the correct password\")     #***** we have to again store the password given by user in password variable\n",
    "        if password==\"1234\":\n",
    "            print(\"welcome\") \n",
    "        else:\n",
    "            print(\"incorrect password\")\n",
    "        \n",
    "else:\n",
    "    print(\"Incorrect email\")"
   ]
  },
  {
   "cell_type": "code",
   "execution_count": 125,
   "id": "80828cde-57ac-4340-91d3-6c8901abc5c5",
   "metadata": {},
   "outputs": [
    {
     "name": "stdin",
     "output_type": "stream",
     "text": [
      "enter your email tgyhuj\n"
     ]
    },
    {
     "name": "stdout",
     "output_type": "stream",
     "text": [
      "Incorrect email\n"
     ]
    }
   ],
   "source": [
    "#Q: we also have to make sure that there is @ in email\n",
    "email=input(\"enter your email\")\n",
    "if \"@\" in email:                    ## if mistake is here code will not run further\n",
    "    password=input(\"enter password\")\n",
    "\n",
    "    if email== \"preeti@gmail.com\" and password ==\"1234\":\n",
    "        print(\"welcome\")\n",
    "    elif email== \"preeti@gmail.com\" and password !=\"1234\":       #*****using elif\n",
    "        print(\"incorrect password\")\n",
    "        password=input(\"please enter correct password\") \n",
    "        if password ==\"1234\":\n",
    "            print(\"welcome\")\n",
    "        else:\n",
    "            print(\"incorrect password\")\n",
    "            \n",
    "    else:\n",
    "        print(\"Incorrect email\")\n",
    "else:\n",
    "    print(\"Incorrect email\")"
   ]
  },
  {
   "cell_type": "markdown",
   "id": "d52f1398-819f-46c9-b90a-5f4d4c200322",
   "metadata": {},
   "source": [
    "## indentation"
   ]
  },
  {
   "cell_type": "markdown",
   "id": "52d23605-ce43-44d7-b13c-ceee1b5e8194",
   "metadata": {},
   "source": [
    "## While loop\n",
    "USED WHEN WE DONT KNOW HOW MANY TIMES WE HAVE TO RUN THE LOOP"
   ]
  },
  {
   "cell_type": "markdown",
   "id": "55361d20-d277-48d5-9e13-300e7016ec4e",
   "metadata": {},
   "source": [
    "eg:: mi mobile on amazon\n",
    "create one container and use while loop to enter the new mobile details also"
   ]
  },
  {
   "cell_type": "code",
   "execution_count": 128,
   "id": "9de68dbd-fa28-4b34-ae89-01c73b1dc55e",
   "metadata": {},
   "outputs": [
    {
     "name": "stdin",
     "output_type": "stream",
     "text": [
      "enter a no 4\n"
     ]
    },
    {
     "name": "stdout",
     "output_type": "stream",
     "text": [
      "4 * 1 = 4\n",
      "4 * 2 = 8\n",
      "4 * 3 = 12\n",
      "4 * 4 = 16\n",
      "4 * 5 = 20\n",
      "4 * 6 = 24\n",
      "4 * 7 = 28\n",
      "4 * 8 = 32\n",
      "4 * 9 = 36\n",
      "4 * 10 = 40\n"
     ]
    }
   ],
   "source": [
    "number= int(input(\"enter a no\"))\n",
    "i=1\n",
    "while i<11:\n",
    "    print (number, \"*\", i,\"=\", number*i)\n",
    "    i+=1"
   ]
  },
  {
   "cell_type": "markdown",
   "id": "310e20fe-a4b7-4624-a562-296a98ac6a35",
   "metadata": {},
   "source": [
    "## Gussing game"
   ]
  },
  {
   "cell_type": "code",
   "execution_count": 131,
   "id": "a4b7a522-71c6-4600-88d1-e4cbf6865a58",
   "metadata": {},
   "outputs": [
    {
     "data": {
      "text/plain": [
       "82"
      ]
     },
     "execution_count": 131,
     "metadata": {},
     "output_type": "execute_result"
    }
   ],
   "source": [
    "import random\n",
    "random.randint(1,100)"
   ]
  },
  {
   "cell_type": "code",
   "execution_count": 138,
   "id": "5081f035-5ce8-494f-a6be-978649dd78c6",
   "metadata": {},
   "outputs": [
    {
     "name": "stdin",
     "output_type": "stream",
     "text": [
      "guess the number 60\n"
     ]
    },
    {
     "name": "stdout",
     "output_type": "stream",
     "text": [
      "guess higher\n"
     ]
    },
    {
     "name": "stdin",
     "output_type": "stream",
     "text": [
      "guess the number 70\n"
     ]
    },
    {
     "name": "stdout",
     "output_type": "stream",
     "text": [
      "guess higher\n"
     ]
    },
    {
     "name": "stdin",
     "output_type": "stream",
     "text": [
      "guess the number 80\n"
     ]
    },
    {
     "name": "stdout",
     "output_type": "stream",
     "text": [
      "guess lower\n"
     ]
    },
    {
     "name": "stdin",
     "output_type": "stream",
     "text": [
      "guess the number 75\n"
     ]
    },
    {
     "name": "stdout",
     "output_type": "stream",
     "text": [
      "guess lower\n"
     ]
    },
    {
     "name": "stdin",
     "output_type": "stream",
     "text": [
      "guess the number 72\n"
     ]
    },
    {
     "name": "stdout",
     "output_type": "stream",
     "text": [
      "correct guess in 5 attempts\n"
     ]
    }
   ],
   "source": [
    "jackpot=random.randint(1,100)\n",
    "guess=int(input(\"guess the number\"))\n",
    "guesses=1\n",
    "while guess!=jackpot:\n",
    "    guesses+=1\n",
    "    if guess< jackpot:\n",
    "         print(\"guess higher\")\n",
    "    else:\n",
    "         print(\"guess lower\")\n",
    "    \n",
    "    guess=int(input(\"guess the number\"))\n",
    "print(f\"correct guess in {guesses} attempts\")    "
   ]
  },
  {
   "cell_type": "markdown",
   "id": "d885ca33-3bb0-44a9-8b11-5b19552532f3",
   "metadata": {},
   "source": [
    "## For loop"
   ]
  },
  {
   "cell_type": "code",
   "execution_count": 143,
   "id": "ced686bc-4d91-4917-a015-a8627729fc7f",
   "metadata": {},
   "outputs": [
    {
     "data": {
      "text/plain": [
       "[0, 1, 2, 3, 4, 5, 6, 7, 8, 9]"
      ]
     },
     "execution_count": 143,
     "metadata": {},
     "output_type": "execute_result"
    }
   ],
   "source": [
    "## range function    (start, stop, step)\n",
    "list(range (0, 10))"
   ]
  },
  {
   "cell_type": "code",
   "execution_count": 144,
   "id": "1100d0d6-19d0-46e5-92d5-d03f159c5741",
   "metadata": {},
   "outputs": [
    {
     "data": {
      "text/plain": [
       "[0, 2, 4, 6, 8]"
      ]
     },
     "execution_count": 144,
     "metadata": {},
     "output_type": "execute_result"
    }
   ],
   "source": [
    "list(range (0, 10,2))"
   ]
  },
  {
   "cell_type": "code",
   "execution_count": 145,
   "id": "6e049e79-2460-4331-a143-fc31d511e45f",
   "metadata": {},
   "outputs": [
    {
     "data": {
      "text/plain": [
       "[10, 8, 6, 4, 2]"
      ]
     },
     "execution_count": 145,
     "metadata": {},
     "output_type": "execute_result"
    }
   ],
   "source": [
    "list(range(10,0,-2))      ## backward steps"
   ]
  },
  {
   "cell_type": "markdown",
   "id": "e9931581-552e-47be-b774-37383921dcf2",
   "metadata": {},
   "source": [
    "Sequence::\n",
    "anthing in a paticular order \n",
    "words or lettesrs etc.\n",
    "FOR LOOP WORKS ON SEQUENCES OR RANGE."
   ]
  },
  {
   "cell_type": "code",
   "execution_count": 146,
   "id": "3e30d23f-cd10-488d-9412-4661e74873f7",
   "metadata": {},
   "outputs": [
    {
     "name": "stdout",
     "output_type": "stream",
     "text": [
      "1\n",
      "4\n",
      "7\n",
      "10\n"
     ]
    }
   ],
   "source": [
    "for i in range (1,11,3):\n",
    "    print(i)"
   ]
  },
  {
   "cell_type": "code",
   "execution_count": 148,
   "id": "5308484e-a326-454c-a375-087faace336d",
   "metadata": {},
   "outputs": [
    {
     "name": "stdout",
     "output_type": "stream",
     "text": [
      "p\n",
      "r\n",
      "e\n",
      "e\n",
      "t\n",
      "i\n"
     ]
    }
   ],
   "source": [
    "for i in \"preeti\":\n",
    "    print (i)"
   ]
  },
  {
   "cell_type": "markdown",
   "id": "2b9c2ea7-ce6e-444d-8c65-86276a24b467",
   "metadata": {},
   "source": [
    "## NESTED LOOPS"
   ]
  },
  {
   "cell_type": "code",
   "execution_count": null,
   "id": "3f4d86b5-e686-4637-a2cf-59a7783a0145",
   "metadata": {},
   "outputs": [],
   "source": []
  },
  {
   "cell_type": "code",
   "execution_count": null,
   "id": "0f2c9e54-91ed-4df3-adf6-733b09e982f7",
   "metadata": {},
   "outputs": [],
   "source": []
  }
 ],
 "metadata": {
  "kernelspec": {
   "display_name": "Python 3 (ipykernel)",
   "language": "python",
   "name": "python3"
  },
  "language_info": {
   "codemirror_mode": {
    "name": "ipython",
    "version": 3
   },
   "file_extension": ".py",
   "mimetype": "text/x-python",
   "name": "python",
   "nbconvert_exporter": "python",
   "pygments_lexer": "ipython3",
   "version": "3.11.7"
  }
 },
 "nbformat": 4,
 "nbformat_minor": 5
}
